{
 "cells": [
  {
   "cell_type": "code",
   "execution_count": 13,
   "metadata": {},
   "outputs": [],
   "source": [
    "import pandas as pd\n",
    "from selenium import webdriver\n",
    "from selenium.webdriver.common.by import By\n",
    "import time\n",
    "import json\n",
    "\n",
    "# Set up the WebDriver (e.g., Chrome)\n",
    "# Make sure to provide the path to your WebDriver executable.\n",
    "driver = webdriver.Chrome()\n",
    "\n",
    "# Navigate to a website\n",
    "url = 'https://example.com'  # Replace with your target website\n",
    "driver.get(url)\n",
    "\n",
    "seats = pd.read_excel('CED_2021_AUST.xlsx')\n",
    "seats = seats[['CED_CODE_2021', 'CED_NAME_2021', 'STATE_NAME_2021']].drop_duplicates()\n",
    "seats = seats.rename(columns={'CED_CODE_2021':'quickstats_code'})\n",
    "\n",
    "seat_codes = seats['quickstats_code'].to_list()\n",
    "\n",
    "ancestry_tables = []\n",
    "\n",
    "for seat_code in seat_codes:\n",
    "    try:\n",
    "        url = 'https://www.abs.gov.au/census/find-census-data/quickstats/2021/CED' + seat_code\n",
    "        driver.get(url)\n",
    "        time.sleep(5)\n",
    "        ancestry_table = pd.read_html(driver.find_element(By.XPATH, '/html/body/div[1]/main/div[3]/div/div[2]/div[3]/div[1]/div[4]/div[2]/div[1]/table').get_attribute('outerHTML'))\n",
    "        ancestry_tables.append(\n",
    "            {\n",
    "                'seat_code': seat_code,\n",
    "                'ancestry_table': ancestry_table\n",
    "            }\n",
    "        )\n",
    "    except:\n",
    "        pass"
   ]
  },
  {
   "cell_type": "code",
   "execution_count": 23,
   "metadata": {},
   "outputs": [],
   "source": [
    "IN_voters = []\n",
    "for seat in ancestry_tables:\n",
    "    if 'Indian' in seat['ancestry_table'][0].iloc[:,0].to_list():\n",
    "        index = seat['ancestry_table'][0].iloc[:,0].to_list().index('Indian')\n",
    "        temp = {\n",
    "            'Seat_code': seat['seat_code'],\n",
    "            'IN_PROP': seat['ancestry_table'][0].iloc[index,2]\n",
    "        }\n",
    "        IN_voters.append(temp)\n",
    "\n",
    "IN_voters = pd.DataFrame(IN_voters)"
   ]
  },
  {
   "cell_type": "code",
   "execution_count": 25,
   "metadata": {},
   "outputs": [],
   "source": [
    "results = IN_voters.merge(seats, how='left', left_on='Seat_code', right_on='quickstats_code')\n",
    "results.to_csv('IN_voters.csv')"
   ]
  }
 ],
 "metadata": {
  "kernelspec": {
   "display_name": "Python 3",
   "language": "python",
   "name": "python3"
  },
  "language_info": {
   "codemirror_mode": {
    "name": "ipython",
    "version": 3
   },
   "file_extension": ".py",
   "mimetype": "text/x-python",
   "name": "python",
   "nbconvert_exporter": "python",
   "pygments_lexer": "ipython3",
   "version": "3.9.6"
  }
 },
 "nbformat": 4,
 "nbformat_minor": 2
}
