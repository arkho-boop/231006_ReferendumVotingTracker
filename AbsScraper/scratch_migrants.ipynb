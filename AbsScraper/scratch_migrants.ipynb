{
 "cells": [
  {
   "cell_type": "code",
   "execution_count": null,
   "metadata": {},
   "outputs": [],
   "source": [
    "import pandas as pd\n",
    "from selenium import webdriver\n",
    "from selenium.webdriver.common.by import By\n",
    "import time\n",
    "import json\n",
    "\n",
    "# Set up the WebDriver (e.g., Chrome)\n",
    "# Make sure to provide the path to your WebDriver executable.\n",
    "driver = webdriver.Chrome()\n",
    "\n",
    "# Navigate to a website\n",
    "url = 'https://example.com'  # Replace with your target website\n",
    "driver.get(url)\n",
    "\n",
    "seats = pd.read_excel('CED_2021_AUST.xlsx')\n",
    "seats = seats[['CED_CODE_2021', 'CED_NAME_2021', 'STATE_NAME_2021']].drop_duplicates()\n",
    "seats = seats.rename(columns={'CED_CODE_2021':'quickstats_code'})\n",
    "\n",
    "seat_codes = seats['quickstats_code'].to_list()\n",
    "\n",
    "df = pd.DataFrame()\n",
    "\n",
    "for seat_code in seat_codes:\n",
    "    try:\n",
    "        url = 'https://www.abs.gov.au/census/find-census-data/quickstats/2021/CED' + seat_code\n",
    "        driver.get(url)\n",
    "        time.sleep(5)\n",
    "        tables = driver.find_all(By.CSS_SELECTOR, 'div[class_=qsTable]')\n",
    "        temp = {\n",
    "            'seat_code': seat_code,\n",
    "            'indig': float(driver.find_element(By.XPATH, r'/html/body/div[1]/main/div[3]/div/div/div[3]/div[1]/div[2]/div[2]/div[2]/table/tbody/tr[2]/td[2]').text),\n",
    "            'age': float(driver.find_element(By.XPATH, r'/html/body/div[1]/main/div[3]/div/div/div[3]/div[1]/div[2]/div[2]/div[3]/table/tbody/tr[2]/td[1]').text),\n",
    "            't_ed': float(driver.find_element(By.XPATH, r'/html/body/div[1]/main/div[3]/div/div/div[3]/div[1]/div[3]/div[2]/div[3]/table/tbody/tr[2]/td[2]').text),\n",
    "            'income': float(driver.find_element(By.XPATH, r'/html/body/div[1]/main/div[3]/div/div/div[3]/div[1]/div[5]/div[2]/div[9]/table/tbody/tr[2]/td[1]').text[1:].replace(',', '')),\n",
    "            'Ancestry_table': pd.read_html(str(tables[7].find('table')))\n",
    "        }\n",
    "        df = pd.concat(\n",
    "            [df, pd.DataFrame(temp, index=[0])], ignore_index=True\n",
    "        )\n",
    "    except:\n",
    "        pass"
   ]
  },
  {
   "cell_type": "code",
   "execution_count": 1,
   "metadata": {},
   "outputs": [],
   "source": [
    "import pandas as pd\n",
    "from selenium import webdriver\n",
    "from selenium.webdriver.common.by import By\n",
    "import time\n",
    "import json\n",
    "\n",
    "# Set up the WebDriver (e.g., Chrome)\n",
    "# Make sure to provide the path to your WebDriver executable.\n",
    "driver = webdriver.Chrome()\n",
    "\n",
    "seats = pd.read_excel('CED_2021_AUST.xlsx')\n",
    "seats = seats[['CED_CODE_2021', 'CED_NAME_2021', 'STATE_NAME_2021']].drop_duplicates()\n",
    "seats = seats.rename(columns={'CED_CODE_2021':'quickstats_code'})\n",
    "\n",
    "seat_codes = seats['quickstats_code'].to_list()\n",
    "\n",
    "driver.get('https://www.abs.gov.au/census/find-census-data/quickstats/2021/CED' + seat_codes[0])"
   ]
  },
  {
   "cell_type": "code",
   "execution_count": 5,
   "metadata": {},
   "outputs": [
    {
     "ename": "AttributeError",
     "evalue": "'WebElement' object has no attribute 'find'",
     "output_type": "error",
     "traceback": [
      "\u001b[1;31m---------------------------------------------------------------------------\u001b[0m",
      "\u001b[1;31mAttributeError\u001b[0m                            Traceback (most recent call last)",
      "\u001b[1;32mc:\\Users\\noahy\\Documents\\DataProjects\\231006_ReferendumVotingTracker\\AbsScraper\\scratch_migrants.ipynb Cell 3\u001b[0m line \u001b[0;36m2\n\u001b[0;32m      <a href='vscode-notebook-cell:/c%3A/Users/noahy/Documents/DataProjects/231006_ReferendumVotingTracker/AbsScraper/scratch_migrants.ipynb#W2sZmlsZQ%3D%3D?line=0'>1</a>\u001b[0m tables \u001b[39m=\u001b[39m driver\u001b[39m.\u001b[39mfind_elements(By\u001b[39m.\u001b[39mCSS_SELECTOR, \u001b[39m'\u001b[39m\u001b[39mdiv[class=qsTable]\u001b[39m\u001b[39m'\u001b[39m)\n\u001b[1;32m----> <a href='vscode-notebook-cell:/c%3A/Users/noahy/Documents/DataProjects/231006_ReferendumVotingTracker/AbsScraper/scratch_migrants.ipynb#W2sZmlsZQ%3D%3D?line=1'>2</a>\u001b[0m pd\u001b[39m.\u001b[39mread_html(\u001b[39mstr\u001b[39m(tables[\u001b[39m7\u001b[39;49m]\u001b[39m.\u001b[39;49mfind(\u001b[39m'\u001b[39m\u001b[39mtable\u001b[39m\u001b[39m'\u001b[39m)))\n",
      "\u001b[1;31mAttributeError\u001b[0m: 'WebElement' object has no attribute 'find'"
     ]
    }
   ],
   "source": [
    "tables = driver.find_elements(By.XPATH, '/html/body/div[1]/main/div[3]/div/div[2]/div[3]/div[1]/div[4]/div[2]/div[1]/table')\n",
    "pd.read_html(str(tables[7].find('table')))"
   ]
  }
 ],
 "metadata": {
  "kernelspec": {
   "display_name": "Python 3",
   "language": "python",
   "name": "python3"
  },
  "language_info": {
   "codemirror_mode": {
    "name": "ipython",
    "version": 3
   },
   "file_extension": ".py",
   "mimetype": "text/x-python",
   "name": "python",
   "nbconvert_exporter": "python",
   "pygments_lexer": "ipython3",
   "version": "3.9.6"
  }
 },
 "nbformat": 4,
 "nbformat_minor": 2
}
