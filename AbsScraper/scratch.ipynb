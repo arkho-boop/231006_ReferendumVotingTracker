{
 "cells": [
  {
   "cell_type": "code",
   "execution_count": 4,
   "metadata": {},
   "outputs": [],
   "source": [
    "import pandas as pd\n",
    "from selenium import webdriver\n",
    "from selenium.webdriver.common.by import By\n",
    "import time\n",
    "import json\n",
    "\n",
    "# Set up the WebDriver (e.g., Chrome)\n",
    "# Make sure to provide the path to your WebDriver executable.\n",
    "driver = webdriver.Chrome()\n",
    "\n",
    "# Navigate to a website\n",
    "url = 'https://example.com'  # Replace with your target website\n",
    "driver.get(url)"
   ]
  },
  {
   "cell_type": "code",
   "execution_count": 51,
   "metadata": {},
   "outputs": [],
   "source": [
    "seats = pd.read_excel('CED_2021_AUST.xlsx')\n",
    "seats = seats[['CED_CODE_2021', 'CED_NAME_2021', 'STATE_NAME_2021']].drop_duplicates()\n",
    "seats = seats.rename(columns={'CED_CODE_2021':'quickstats_code'})"
   ]
  },
  {
   "cell_type": "code",
   "execution_count": 17,
   "metadata": {},
   "outputs": [],
   "source": [
    "seat_codes = seats['quickstats_code'].to_list()\n",
    "\n",
    "df = pd.DataFrame()\n",
    "\n",
    "for seat_code in seat_codes:\n",
    "    try:\n",
    "        url = 'https://www.abs.gov.au/census/find-census-data/quickstats/2021/CED' + seat_code\n",
    "        driver.get(url)\n",
    "        time.sleep(5)\n",
    "        temp = {\n",
    "            'seat_code': seat_code,\n",
    "            'indig': float(driver.find_element(By.XPATH, r'/html/body/div[1]/main/div[3]/div/div/div[3]/div[1]/div[2]/div[2]/div[2]/table/tbody/tr[2]/td[2]').text),\n",
    "            'age': float(driver.find_element(By.XPATH, r'/html/body/div[1]/main/div[3]/div/div/div[3]/div[1]/div[2]/div[2]/div[3]/table/tbody/tr[2]/td[1]').text),\n",
    "            't_ed': float(driver.find_element(By.XPATH, r'/html/body/div[1]/main/div[3]/div/div/div[3]/div[1]/div[3]/div[2]/div[3]/table/tbody/tr[2]/td[2]').text),\n",
    "            'income': float(driver.find_element(By.XPATH, r'/html/body/div[1]/main/div[3]/div/div/div[3]/div[1]/div[5]/div[2]/div[9]/table/tbody/tr[2]/td[1]').text[1:].replace(',', ''))\n",
    "        }\n",
    "        df = pd.concat(\n",
    "            [df, pd.DataFrame(temp, index=[0])], ignore_index=True\n",
    "        )\n",
    "    except:\n",
    "        pass"
   ]
  },
  {
   "cell_type": "code",
   "execution_count": 19,
   "metadata": {},
   "outputs": [],
   "source": [
    "driver.quit()"
   ]
  },
  {
   "cell_type": "code",
   "execution_count": 52,
   "metadata": {},
   "outputs": [],
   "source": [
    "\n",
    "# Replace 'seat_code' and 'quickstats_code' with your actual column names\n",
    "result_df = df.merge(seats, how='left', left_on='seat_code', right_on='quickstats_code').drop(columns=['seat_code'])\n",
    "\n",
    "# The result_df will contain the left join of df and seats based on the specified columns\n"
   ]
  },
  {
   "cell_type": "code",
   "execution_count": 53,
   "metadata": {},
   "outputs": [],
   "source": [
    "state_acronyms = {\n",
    "    'New South Wales': 'NSW',\n",
    "    'Victoria': 'Vic',\n",
    "    'Queensland': 'Qld',\n",
    "    'South Australia': 'SA',\n",
    "    'Australian Capital Territory': 'ACT',\n",
    "    'Northern Territory': 'NT',\n",
    "    'Tasmania': 'Tas',\n",
    "    'Western Australia': 'WA'\n",
    "}\n",
    "\n",
    "# Update the 'State_acronym' column based on the dictionary\n",
    "result_df['State_acronym'] = result_df['STATE_NAME_2021'].map(state_acronyms)"
   ]
  },
  {
   "cell_type": "code",
   "execution_count": 34,
   "metadata": {},
   "outputs": [],
   "source": [
    "# Set up the WebDriver (e.g., Chrome)\n",
    "# Make sure to provide the path to your WebDriver executable.\n",
    "driver = webdriver.Chrome()\n",
    "\n",
    "# Navigate to a website\n",
    "url = 'https://example.com'  # Replace with your target website\n",
    "driver.get(url)"
   ]
  },
  {
   "cell_type": "code",
   "execution_count": 35,
   "metadata": {},
   "outputs": [],
   "source": [
    "dem_rating = []\n",
    "\n",
    "for i, row in result_df.iterrows():\n",
    "    url = 'https://www.aec.gov.au/profiles/' + row['State_acronym'] + '/' + row['CED_NAME_2021'] + '.htm'\n",
    "    driver.get(url)\n",
    "    time.sleep(2)\n",
    "    dem_rating.append(driver.find_element(By.XPATH, r'/html/body/div[3]/div/div/dl/dd[9]/strong').text)"
   ]
  },
  {
   "cell_type": "code",
   "execution_count": 37,
   "metadata": {},
   "outputs": [],
   "source": [
    "driver.quit()"
   ]
  },
  {
   "cell_type": "code",
   "execution_count": 54,
   "metadata": {},
   "outputs": [],
   "source": [
    "result_df['dem_rating'] = dem_rating"
   ]
  },
  {
   "cell_type": "code",
   "execution_count": 55,
   "metadata": {},
   "outputs": [],
   "source": [
    "f = open('Hor.json')\n",
    "data = f.read()\n",
    "hor = json.loads(data)\n",
    "hor = pd.DataFrame(hor)\n",
    "f.close()\n",
    "hor['electorate'] = hor['Representing'].str.split(',').str[0]\n",
    "hor = hor[['electorate', 'FullName', 'Party']]\n",
    "result_df = result_df.merge(hor, how='left', left_on='CED_NAME_2021', right_on='electorate')\n",
    "result_df = result_df.drop(columns='electorate')"
   ]
  },
  {
   "cell_type": "code",
   "execution_count": 59,
   "metadata": {},
   "outputs": [],
   "source": [
    "twopp = pd.read_csv('HouseTppByDivisionDownload-27966.csv', skiprows=1)\n",
    "twopp = twopp[['DivisionNm', 'DivisionID', 'Australian Labor Party Percentage']]\n",
    "result_df = result_df.merge(twopp, how='left', left_on='CED_NAME_2021', right_on='DivisionNm')\n",
    "result_df = result_df.drop(columns='DivisionNm')"
   ]
  },
  {
   "cell_type": "code",
   "execution_count": 62,
   "metadata": {},
   "outputs": [],
   "source": [
    "result_df['Coalition point lead'] = (result_df['Australian Labor Party Percentage'] - 50) * (-1)"
   ]
  },
  {
   "cell_type": "code",
   "execution_count": 63,
   "metadata": {},
   "outputs": [],
   "source": [
    "result_df.to_csv('demographicData.csv', index=False)"
   ]
  }
 ],
 "metadata": {
  "kernelspec": {
   "display_name": "base",
   "language": "python",
   "name": "python3"
  },
  "language_info": {
   "codemirror_mode": {
    "name": "ipython",
    "version": 3
   },
   "file_extension": ".py",
   "mimetype": "text/x-python",
   "name": "python",
   "nbconvert_exporter": "python",
   "pygments_lexer": "ipython3",
   "version": "3.9.12"
  }
 },
 "nbformat": 4,
 "nbformat_minor": 2
}
