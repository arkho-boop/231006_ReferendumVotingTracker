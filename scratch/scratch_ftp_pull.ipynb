{
 "cells": [
  {
   "cell_type": "code",
   "execution_count": null,
   "metadata": {},
   "outputs": [],
   "source": [
    "from ftplib import FTP\n",
    "\n",
    "# FTP server details\n",
    "ftp_host = 'mediafeedarchive.aec.gov.au'\n",
    "ftp_port = 21\n",
    "ftp_user = 'anonymous'\n",
    "ftp_password = 's'\n",
    "\n",
    "# File details\n",
    "remote_file_path = '/29581/Detailed/Verbose/aec-mediafeed-Detailed-Verbose-29581-20230920135814.zip'\n",
    "local_file_path = 'aec-mediafeed-Detailed-Verbose-29581-20230920135814.zip'\n",
    "\n",
    "# Create an FTP object and connect to the server\n",
    "ftp = FTP()\n",
    "ftp.connect(ftp_host, ftp_port)\n",
    "\n",
    "# Log in with your credentials\n",
    "ftp.login(ftp_user, ftp_password)\n",
    "\n",
    "# Change the working directory (optional)\n",
    "# ftp.cwd('/path/to/directory')\n",
    "\n",
    "# Retrieve the file from the server and save it locally\n",
    "with open(local_file_path, 'wb') as local_file:\n",
    "    ftp.retrbinary('RETR ' + remote_file_path, local_file.write)\n",
    "\n",
    "# Close the FTP connection\n",
    "ftp.quit()\n"
   ]
  },
  {
   "cell_type": "code",
   "execution_count": null,
   "metadata": {},
   "outputs": [],
   "source": [
    "import zipfile\n",
    "\n",
    "# Specify the path to the ZIP file you want to unzip\n",
    "zip_file_path = 'your_zip_file.zip'\n",
    "\n",
    "# Specify the directory where you want to extract the contents\n",
    "extracted_directory = 'destination_directory'\n",
    "\n",
    "# Create a ZipFile object and extract the contents\n",
    "with zipfile.ZipFile(zip_file_path, 'r') as zip_ref:\n",
    "    zip_ref.extractall(extracted_directory)\n",
    "\n",
    "# The contents of the ZIP file are now extracted to the specified directory.\n"
   ]
  }
 ],
 "metadata": {
  "language_info": {
   "name": "python"
  }
 },
 "nbformat": 4,
 "nbformat_minor": 2
}
