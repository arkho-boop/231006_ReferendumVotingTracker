{
 "cells": [
  {
   "cell_type": "code",
   "execution_count": 8,
   "metadata": {},
   "outputs": [],
   "source": [
    "import xml.etree.ElementTree as ET\n",
    "from pathlib import Path\n",
    "import datetime as dt\n",
    "import xmltodict\n",
    "import pandas as pd"
   ]
  },
  {
   "cell_type": "code",
   "execution_count": 9,
   "metadata": {},
   "outputs": [],
   "source": [
    "def read_eml(path: Path):\n",
    "\n",
    "    \"\"\"Convert EML file to dictionary\"\"\"\n",
    "\n",
    "    try:\n",
    "        return xmltodict.parse(path.read_text(encoding=\"utf-8\"))\n",
    "\n",
    "    except UnicodeDecodeError as e:\n",
    "        print(path.name)\n",
    "        print(e)\n",
    "        return None"
   ]
  },
  {
   "cell_type": "code",
   "execution_count": 15,
   "metadata": {},
   "outputs": [],
   "source": [
    "f = open('aec-mediafeed-results-detailed-verbose-24310.xml', encoding='utf-8')\n",
    "text = f.read()\n",
    "temp = xmltodict.parse(text)"
   ]
  },
  {
   "cell_type": "code",
   "execution_count": 35,
   "metadata": {},
   "outputs": [
    {
     "data": {
      "text/plain": [
       "{'@Updated': '2019-05-25T16:55:32',\n",
       " 'PollingPlaceIdentifier': {'@Id': '93925',\n",
       "  '@Name': 'Belconnen BEAN PPVC',\n",
       "  '@Classification': 'PrePollVotingCentre'},\n",
       " 'FirstPreferences': {'@Updated': '2019-05-25T16:55:32',\n",
       "  'Candidate': [{'eml:CandidateIdentifier': {'@Id': '33426'},\n",
       "    'Votes': {'@Historic': '0',\n",
       "     '@Percentage': '3.12',\n",
       "     '@Swing': '3.12',\n",
       "     '#text': '22'}},\n",
       "   {'eml:CandidateIdentifier': {'@Id': '32130'},\n",
       "    'Votes': {'@Historic': '0',\n",
       "     '@Percentage': '6.09',\n",
       "     '@Swing': '6.09',\n",
       "     '#text': '43'}},\n",
       "   {'eml:CandidateIdentifier': {'@Id': '33391'},\n",
       "    'Votes': {'@Historic': '0',\n",
       "     '@Percentage': '1.7',\n",
       "     '@Swing': '1.7',\n",
       "     '#text': '12'}},\n",
       "   {'eml:CandidateIdentifier': {'@Id': '32921'},\n",
       "    'Votes': {'@Historic': '0',\n",
       "     '@Percentage': '3.26',\n",
       "     '@Swing': '3.26',\n",
       "     '#text': '23'}},\n",
       "   {'eml:CandidateIdentifier': {'@Id': '32261'},\n",
       "    'Votes': {'@Historic': '0',\n",
       "     '@Percentage': '2.55',\n",
       "     '@Swing': '2.55',\n",
       "     '#text': '18'}},\n",
       "   {'eml:CandidateIdentifier': {'@Id': '33397'},\n",
       "    'Votes': {'@Historic': '252',\n",
       "     '@Percentage': '30.74',\n",
       "     '@Swing': '-4.47',\n",
       "     '#text': '217'}},\n",
       "   {'eml:CandidateIdentifier': {'@Id': '32253'},\n",
       "    'Votes': {'@Historic': '310',\n",
       "     '@Percentage': '37.54',\n",
       "     '@Swing': '-5.8',\n",
       "     '#text': '265'}},\n",
       "   {'eml:CandidateIdentifier': {'@Id': '32405'},\n",
       "    'Votes': {'@Historic': '113',\n",
       "     '@Percentage': '15.01',\n",
       "     '@Swing': '-0.81',\n",
       "     '#text': '106'}}],\n",
       "  'Ghost': {'eml:CandidateIdentifier': {'@Id': '31528'},\n",
       "   'Votes': {'@Historic': '40',\n",
       "    '@Percentage': '0',\n",
       "    '@Swing': '-5.63',\n",
       "    '#text': '0'}},\n",
       "  'Formal': {'Votes': {'@Historic': '715',\n",
       "    '@Percentage': '94.26',\n",
       "    '@Swing': '-3.73',\n",
       "    '#text': '706'}},\n",
       "  'Informal': {'Votes': {'@Historic': '15',\n",
       "    '@Percentage': '5.74',\n",
       "    '@Swing': '3.73',\n",
       "    '#text': '43'}},\n",
       "  'Total': {'Votes': {'@Historic': '729',\n",
       "    '@Percentage': '0.72',\n",
       "    '@Swing': '-0.01',\n",
       "    '#text': '749'}}},\n",
       " 'TwoCandidatePreferred': {'@Updated': '2019-05-25T16:55:32',\n",
       "  'Candidate': [{'eml:CandidateIdentifier': {'@Id': '33397'},\n",
       "    'Votes': {'@Historic': '285',\n",
       "     '@Percentage': '40.79',\n",
       "     '@Swing': '0.93',\n",
       "     '#text': '288'}},\n",
       "   {'eml:CandidateIdentifier': {'@Id': '32253'},\n",
       "    'Votes': {'@Historic': '430',\n",
       "     '@Percentage': '59.21',\n",
       "     '@Swing': '-0.93',\n",
       "     '#text': '418'}}]}}"
      ]
     },
     "execution_count": 35,
     "metadata": {},
     "output_type": "execute_result"
    }
   ],
   "source": [
    "temp['MediaFeed']['Results']['Election'][0]['House']['Contests']['Contest'][0]['PollingPlaces']['PollingPlace'][0]\n"
   ]
  }
 ],
 "metadata": {
  "kernelspec": {
   "display_name": "Python 3",
   "language": "python",
   "name": "python3"
  },
  "language_info": {
   "codemirror_mode": {
    "name": "ipython",
    "version": 3
   },
   "file_extension": ".py",
   "mimetype": "text/x-python",
   "name": "python",
   "nbconvert_exporter": "python",
   "pygments_lexer": "ipython3",
   "version": "3.9.6"
  }
 },
 "nbformat": 4,
 "nbformat_minor": 2
}
