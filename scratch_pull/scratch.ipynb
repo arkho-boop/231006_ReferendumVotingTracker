{
 "cells": [
  {
   "cell_type": "code",
   "execution_count": null,
   "metadata": {},
   "outputs": [],
   "source": [
    "import FtpPullFunctions\n",
    "import datetime\n",
    "import pandas as pd"
   ]
  },
  {
   "cell_type": "code",
   "execution_count": null,
   "metadata": {},
   "outputs": [],
   "source": [
    "f = open('file_log.txt', 'w')\n",
    "\n",
    "i = 1\n",
    "while i == 1:\n",
    "    try:\n",
    "        FtpPullFunctions\n",
    "    except:"
   ]
  }
 ],
 "metadata": {
  "language_info": {
   "name": "python"
  },
  "orig_nbformat": 4
 },
 "nbformat": 4,
 "nbformat_minor": 2
}
