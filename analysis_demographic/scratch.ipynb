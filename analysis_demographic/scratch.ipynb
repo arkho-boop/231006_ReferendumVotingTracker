{
 "cells": [
  {
   "cell_type": "code",
   "execution_count": 47,
   "metadata": {},
   "outputs": [],
   "source": [
    "import xml.etree.ElementTree as ET\n",
    "from pathlib import Path\n",
    "import datetime as dt\n",
    "import xmltodict\n",
    "import pandas as pd\n",
    "import os\n",
    "import zipfile\n",
    "import shutil\n",
    "import matplotlib.pyplot as plt\n",
    "import seaborn as sns\n",
    "import plotly.express as px\n",
    "import plotly.graph_objects as go \n",
    "\n",
    "def read_eml(path: Path):\n",
    "\n",
    "    \"\"\"Convert EML file to dictionary\"\"\"\n",
    "\n",
    "    try:\n",
    "        return xmltodict.parse(path.read_text(encoding=\"utf-8\"))\n",
    "\n",
    "    except UnicodeDecodeError as e:\n",
    "        print(path.name)\n",
    "        print(e)\n",
    "        return None\n",
    "    \n",
    "# Get the user's home directory\n",
    "current_directory = os.getcwd()\n",
    "\n",
    "abs_demo = pd.read_csv('demographicData.csv')"
   ]
  },
  {
   "cell_type": "code",
   "execution_count": 48,
   "metadata": {},
   "outputs": [
    {
     "name": "stdout",
     "output_type": "stream",
     "text": [
      "Unzipped to: aec-mediafeed-Detailed-Verbose-29581-20231012184312\n",
      "Now filtering to spreadsheet ...\n",
      "File opened...\n",
      "            Seat SeatID State  Enrolment      Yes       No  Informal  \\\n",
      "0           Bean    318   ACT   111176.0  49183.0  39335.0     948.0   \n",
      "2         Fenner    102   ACT   103863.0  45879.0  36690.0     880.0   \n",
      "15   Eden-Monaro    117   NSW   117428.0  42508.0  48994.0    1010.0   \n",
      "1       Canberra    101   ACT   101798.0  43243.0  34606.0     816.0   \n",
      "22          Hume    125   NSW   126270.0  44792.0  51617.0    1047.0   \n",
      "..           ...    ...   ...        ...      ...      ...       ...   \n",
      "141       Durack    312    WA   124218.0   1498.0   1527.0      66.0   \n",
      "36        Parkes    139   NSW   110985.0   1220.0   1503.0      26.0   \n",
      "32   New England    135   NSW   116060.0   1029.0   1219.0      36.0   \n",
      "57        Dawson    158   QLD   113963.0      0.0      0.0       0.0   \n",
      "66       Herbert    165   QLD   119674.0      0.0      0.0       0.0   \n",
      "\n",
      "     Complete  Votes_returned  Votes_returned_pc  Informal_pc_tot  Yes_pc_tot  \\\n",
      "0       False         89466.0              80.47         0.008527    0.442389   \n",
      "2       False         83449.0              80.35         0.008473    0.441726   \n",
      "15      False         92512.0              78.78         0.008601    0.361992   \n",
      "1       False         78665.0              77.28         0.008016    0.424792   \n",
      "22      False         97456.0              77.18         0.008292    0.354732   \n",
      "..        ...             ...                ...              ...         ...   \n",
      "141     False          3091.0               2.49         0.000531    0.012059   \n",
      "36      False          2749.0               2.48         0.000234    0.010992   \n",
      "32      False          2284.0               1.97         0.000310    0.008866   \n",
      "57      False             0.0               0.00         0.000000    0.000000   \n",
      "66      False             0.0               0.00         0.000000    0.000000   \n",
      "\n",
      "     No_pc_tot Informal_pc_so_far Yes_pc_so_far No_pc_so_far  \\\n",
      "0     0.353808           0.010596       0.54974     0.439664   \n",
      "2     0.353254           0.010545      0.549785      0.43967   \n",
      "15    0.417226           0.010918      0.459486     0.529596   \n",
      "1     0.339948           0.010373      0.549711     0.439916   \n",
      "22    0.408783           0.010743      0.459613     0.529644   \n",
      "..         ...                ...           ...          ...   \n",
      "141   0.012293           0.021352      0.484633     0.494015   \n",
      "36    0.013542           0.009458      0.443798     0.546744   \n",
      "32    0.010503           0.015762      0.450525     0.533713   \n",
      "57    0.000000               NULL          NULL         NULL   \n",
      "66    0.000000               NULL          NULL         NULL   \n",
      "\n",
      "    Yes_lead_pts_so_far  \n",
      "0               0.04974  \n",
      "2              0.049785  \n",
      "15            -0.040514  \n",
      "1              0.049711  \n",
      "22            -0.040387  \n",
      "..                  ...  \n",
      "141           -0.015367  \n",
      "36            -0.056202  \n",
      "32            -0.049475  \n",
      "57                 NULL  \n",
      "66                 NULL  \n",
      "\n",
      "[151 rows x 17 columns]\n"
     ]
    }
   ],
   "source": [
    "# HAVE YOU MOVED THE ZIP FILE INTO THE WORKING DIRECTORY??\n",
    "\n",
    "zip_filename = 'aec-mediafeed-Detailed-Verbose-29581-20231012184312.zip'\n",
    "\n",
    "# Let's proceed. \n",
    "\n",
    "# Construct the full path to your file\n",
    "zip_file_path = os.path.join(current_directory, zip_filename)\n",
    "\n",
    "# unzipped directory\n",
    "unzip_directory_name = zip_filename[:-4]\n",
    "\n",
    "# Create a ZipFile object and extract the contents\n",
    "with zipfile.ZipFile(zip_file_path, 'r') as zip_ref:\n",
    "    zip_ref.extractall(unzip_directory_name)\n",
    "\n",
    "print('Unzipped to: ' + unzip_directory_name)\n",
    "print('Now filtering to spreadsheet ...')\n",
    "\n",
    "os.chdir(unzip_directory_name + '//xml')\n",
    "file_name = os.listdir()[0]\n",
    "\n",
    "f = open(file_name, encoding='utf-8')\n",
    "text = f.read()\n",
    "f.close()\n",
    "temp = xmltodict.parse(text)\n",
    "\n",
    "print('File opened...')\n",
    "\n",
    "# Get the current working directory\n",
    "current_directory = os.getcwd()\n",
    "\n",
    "# Get the parent directory\n",
    "parent_directory = os.path.dirname(current_directory)\n",
    "\n",
    "# Get the grandparent directory\n",
    "grandparent_directory = os.path.dirname(parent_directory)\n",
    "\n",
    "# Change the working directory to the grandparent directory\n",
    "os.chdir(grandparent_directory)\n",
    "\n",
    "df = pd.DataFrame()\n",
    "\n",
    "for PollingDistrict in temp['MediaFeed']['Results']['Election']['Referendum']['Contests']['Contest']['PollingDistricts']['PollingDistrict']:\n",
    "    temp_dict = {\n",
    "        'Seat': PollingDistrict['PollingDistrictIdentifier']['Name'],\n",
    "        'SeatID': PollingDistrict['PollingDistrictIdentifier']['@Id'],\n",
    "        'State': PollingDistrict['PollingDistrictIdentifier']['StateIdentifier']['@Id'],\n",
    "        'Enrolment': float(PollingDistrict['Enrolment']['#text']),\n",
    "        'Yes': float(PollingDistrict['ProposalResults']['Option'][0]['Votes']['#text']),\n",
    "        'No': float(PollingDistrict['ProposalResults']['Option'][1]['Votes']['#text']),\n",
    "        'Informal': float(PollingDistrict['ProposalResults']['Informal']['Votes']['#text']),\n",
    "        'Complete': PollingDistrict['ProposalResults']['@PollingPlacesExpected'] == PollingDistrict['ProposalResults']['@PollingPlacesReturned'],\n",
    "        'Votes_returned': float(PollingDistrict['ProposalResults']['Total']['Votes']['#text']),\n",
    "        'Votes_returned_pc': float(PollingDistrict['ProposalResults']['Total']['Votes']['@Percentage'])\n",
    "    }\n",
    "    temp_dict['Informal_pc_tot'] = temp_dict['Informal'] / temp_dict['Enrolment']\n",
    "    temp_dict['Yes_pc_tot'] = temp_dict['Yes'] / temp_dict['Enrolment']\n",
    "    temp_dict['No_pc_tot'] = temp_dict['No'] / temp_dict['Enrolment']\n",
    "    if temp_dict['Votes_returned'] == 0:\n",
    "        temp_dict['Informal_pc_so_far'] = 'NULL'\n",
    "        temp_dict['Yes_pc_so_far'] = 'NULL'\n",
    "        temp_dict['No_pc_so_far'] = 'NULL'\n",
    "        temp_dict['Yes_lead_pts_so_far'] = 'NULL'\n",
    "    else:\n",
    "        temp_dict['Informal_pc_so_far'] = temp_dict['Informal'] / temp_dict['Votes_returned']\n",
    "        temp_dict['Yes_pc_so_far'] = temp_dict['Yes'] / temp_dict['Votes_returned']\n",
    "        temp_dict['No_pc_so_far'] = temp_dict['No'] / temp_dict['Votes_returned']\n",
    "        temp_dict['Yes_lead_pts_so_far'] = temp_dict['Yes_pc_so_far'] - 0.5\n",
    "    df = pd.concat(\n",
    "        [df, pd.DataFrame(temp_dict, index=[0])], ignore_index=True\n",
    "    )\n",
    "\n",
    "df = df.sort_values(by='Votes_returned_pc', ascending=False)\n",
    "print(df)\n",
    "\n"
   ]
  },
  {
   "cell_type": "code",
   "execution_count": null,
   "metadata": {},
   "outputs": [],
   "source": [
    "# Table by state\n"
   ]
  },
  {
   "cell_type": "code",
   "execution_count": 49,
   "metadata": {},
   "outputs": [],
   "source": [
    "# Merge the two datasets\n",
    "df = df.drop(columns='State')\n",
    "master = df.merge(abs_demo, how='left', left_on='Seat', right_on='CED_NAME_2021')\n",
    "master = master.drop(columns = 'CED_NAME_2021')"
   ]
  },
  {
   "cell_type": "code",
   "execution_count": 50,
   "metadata": {},
   "outputs": [],
   "source": [
    "# FILTER THE DATAFRAME\n",
    "filtered_master = master[master['Votes_returned'] > 0]"
   ]
  },
  {
   "cell_type": "code",
   "execution_count": 52,
   "metadata": {},
   "outputs": [
    {
     "data": {
      "application/vnd.plotly.v1+json": {
       "config": {
        "plotlyServerURL": "https://plot.ly"
       },
       "data": [
        {
         "customdata": [
          [
           "Bean"
          ],
          [
           "Fenner"
          ],
          [
           "Eden-Monaro"
          ],
          [
           "Canberra"
          ],
          [
           "Boothby"
          ],
          [
           "Makin"
          ],
          [
           "Hindmarsh"
          ],
          [
           "Spence"
          ],
          [
           "Cunningham"
          ],
          [
           "Kingston"
          ],
          [
           "Solomon"
          ],
          [
           "Adelaide"
          ],
          [
           "Lalor"
          ],
          [
           "Maribyrnong"
          ],
          [
           "Hawke"
          ],
          [
           "Fraser"
          ],
          [
           "Dunkley"
          ],
          [
           "Jagajaga"
          ],
          [
           "Corio"
          ],
          [
           "Burt"
          ],
          [
           "Holt"
          ],
          [
           "Aston"
          ],
          [
           "Fremantle"
          ],
          [
           "Brand"
          ],
          [
           "Scullin"
          ],
          [
           "Macnamara"
          ],
          [
           "Calwell"
          ],
          [
           "Gorton"
          ],
          [
           "Swan"
          ],
          [
           "Wills"
          ],
          [
           "Pearce"
          ],
          [
           "Gellibrand"
          ],
          [
           "McMahon"
          ],
          [
           "Cowan"
          ],
          [
           "Chifley"
          ],
          [
           "Perth"
          ],
          [
           "Cooper"
          ],
          [
           "Bruce"
          ],
          [
           "Corangamite"
          ],
          [
           "Hasluck"
          ],
          [
           "Newcastle"
          ],
          [
           "Oxley"
          ],
          [
           "Moreton"
          ],
          [
           "Isaacs"
          ],
          [
           "Reid"
          ],
          [
           "Chisholm"
          ],
          [
           "Greenway"
          ],
          [
           "Barton"
          ],
          [
           "Hotham"
          ],
          [
           "Lingiari"
          ],
          [
           "Higgins"
          ],
          [
           "Robertson"
          ],
          [
           "Shortland"
          ],
          [
           "Macquarie"
          ],
          [
           "Franklin"
          ],
          [
           "Macarthur"
          ],
          [
           "Sydney"
          ],
          [
           "Blaxland"
          ],
          [
           "Tangney"
          ],
          [
           "Whitlam"
          ],
          [
           "McEwen"
          ],
          [
           "Grayndler"
          ],
          [
           "Rankin"
          ],
          [
           "Bennelong"
          ],
          [
           "Bendigo"
          ],
          [
           "Kingsford Smith"
          ],
          [
           "Lilley"
          ],
          [
           "Blair"
          ],
          [
           "Dobell"
          ],
          [
           "Ballarat"
          ],
          [
           "Paterson"
          ],
          [
           "Parramatta"
          ],
          [
           "Watson"
          ],
          [
           "Werriwa"
          ],
          [
           "Gilmore"
          ],
          [
           "Hunter"
          ],
          [
           "Richmond"
          ],
          [
           "Lyons"
          ]
         ],
         "hovertemplate": "Party=Australian Labor Party<br>Yes_lead_pts_so_far=%{x}<br>Coalition point lead=%{y}<br>Seat=%{customdata[0]}<extra></extra>",
         "legendgroup": "Australian Labor Party",
         "marker": {
          "color": "#636efa",
          "symbol": "circle"
         },
         "mode": "markers",
         "name": "Australian Labor Party",
         "orientation": "v",
         "showlegend": true,
         "type": "scatter",
         "x": [
          0.04973956586859818,
          0.0497848985607976,
          -0.0405136630923556,
          0.049710798957604996,
          0.08961879042893928,
          0.09000153249994525,
          0.08979229856949444,
          0.08956371324236023,
          -0.04022158366243067,
          0.08941262822463703,
          0.0063570784490531995,
          0.08965705653585321,
          0.019668322384233328,
          0.019729325951313825,
          0.019785908572431343,
          0.019608703281277395,
          0.019379161338683337,
          0.019607843137254943,
          0.019107158580611072,
          -0.010192451010477388,
          0.019756286091028974,
          0.01983996234408092,
          -0.01055970797844602,
          -0.010388358025773647,
          0.019759830700329717,
          0.019472826891751782,
          0.019312259510009255,
          0.01939126165930294,
          0.002685919865950459,
          0.019196626719928944,
          -0.010666804081212011,
          0.019517388218594722,
          -0.041042575775445234,
          -0.010759281971234269,
          -0.04047514298284205,
          -0.010883119827683918,
          0.019246781528213686,
          0.019341873901029927,
          0.019242745049196652,
          -0.011208343322944125,
          -0.04027611044417767,
          -0.07097771480097903,
          -0.07078996996577497,
          0.019423685450750683,
          -0.040970617365467144,
          0.0188269627731511,
          -0.04064201238971277,
          -0.04088628171602232,
          0.019451573686343426,
          0.01449130521686992,
          0.01905183872396987,
          -0.04126284875183556,
          -0.040323159784560136,
          -0.03987873134328357,
          -0.10156681010702856,
          -0.04053348985847516,
          -0.040718835304822565,
          -0.04184540331398773,
          -0.010185672404720736,
          -0.04154769748883519,
          0.019222715470307405,
          -0.03862941946748144,
          -0.07032416761837829,
          -0.04146001914208647,
          0.019390331890331902,
          -0.04370806140270245,
          -0.07093690248565965,
          -0.07145260324669861,
          -0.040545590433482825,
          0.019042663891779443,
          -0.03999448985214438,
          -0.04287362954414309,
          -0.04030080987273427,
          -0.04245730550284632,
          -0.042351922839124534,
          -0.03998961308750976,
          -0.041588582960934095,
          -0.10577152396851897
         ],
         "xaxis": "x",
         "y": [
          -12.950000000000005,
          -15.689999999999998,
          -8.200000000000003,
          -22.459999999999997,
          -3.280000000000001,
          -10.799999999999995,
          -8.950000000000003,
          -12.9,
          -14.700000000000005,
          -16.349999999999994,
          -9.369999999999996,
          -11.909999999999997,
          -12.82,
          -12.450000000000005,
          -7.630000000000003,
          -16.5,
          -6.270000000000003,
          -12.35,
          -12.840000000000003,
          -15.209999999999994,
          -7.119999999999997,
          2.8100000000000023,
          -16.89,
          -16.709999999999994,
          -15.579999999999998,
          -12.25,
          -12.39,
          -9.97,
          -8.770000000000003,
          -25.77,
          -9.04,
          -11.54,
          -9.490000000000002,
          -10.82,
          -13.47,
          -14.799999999999995,
          -25.459999999999997,
          -6.590000000000003,
          -7.600000000000001,
          -6,
          -17.980000000000004,
          -11.590000000000003,
          -9.090000000000003,
          -6.850000000000001,
          -5.189999999999998,
          -6.409999999999997,
          -11.53,
          -15.540000000000006,
          -14.25,
          -0.9500000000000028,
          -2.0600000000000023,
          -2.259999999999998,
          -5.82,
          -7.770000000000003,
          -13.700000000000005,
          -8.530000000000001,
          -25.569999999999997,
          -14.939999999999998,
          -2.3800000000000026,
          -10.07,
          -3.280000000000001,
          -28.849999999999994,
          -9.090000000000003,
          -0.9799999999999968,
          -12.11,
          -14.5,
          -10.54,
          -5.229999999999997,
          -6.520000000000003,
          -12.97,
          -3.3100000000000023,
          -4.57,
          -15.099999999999994,
          -5.82,
          -0.1700000000000017,
          -4.030000000000001,
          -8.229999999999997,
          -0.9200000000000016
         ],
         "yaxis": "y"
        },
        {
         "customdata": [
          [
           "Hume"
          ],
          [
           "Barker"
          ],
          [
           "Grey"
          ],
          [
           "Banks"
          ],
          [
           "Sturt"
          ],
          [
           "Lindsay"
          ],
          [
           "Hughes"
          ],
          [
           "Deakin"
          ],
          [
           "Menzies"
          ],
          [
           "Mitchell"
          ],
          [
           "Cook"
          ],
          [
           "Berowra"
          ],
          [
           "Flinders"
          ],
          [
           "La Trobe"
          ],
          [
           "Moore"
          ],
          [
           "Casey"
          ],
          [
           "Canning"
          ],
          [
           "Bradfield"
          ],
          [
           "Forrest"
          ],
          [
           "Bass"
          ],
          [
           "Braddon"
          ],
          [
           "Monash"
          ],
          [
           "Farrer"
          ],
          [
           "Wannon"
          ],
          [
           "O'Connor"
          ],
          [
           "Durack"
          ]
         ],
         "hovertemplate": "Party=Liberal Party of Australia<br>Yes_lead_pts_so_far=%{x}<br>Coalition point lead=%{y}<br>Seat=%{customdata[0]}<extra></extra>",
         "legendgroup": "Liberal Party of Australia",
         "marker": {
          "color": "#EF553B",
          "symbol": "circle"
         },
         "mode": "markers",
         "name": "Liberal Party of Australia",
         "orientation": "v",
         "showlegend": true,
         "type": "scatter",
         "x": [
          -0.04038745690362833,
          0.089282518292362,
          0.0895402286760143,
          -0.04039017659234034,
          0.08966931796830968,
          -0.03924543424743804,
          -0.04152963403540688,
          0.01988988300068828,
          0.020096065550611053,
          -0.04027245903697657,
          -0.04118586254445172,
          -0.042117685358509016,
          0.01989088429188457,
          0.020019651191353516,
          -0.010535921685747462,
          0.019319518595602214,
          -0.010793284178733209,
          -0.04189204106413513,
          -0.011234679981842965,
          -0.1021625652498136,
          -0.10284488597877622,
          0.01885987369858333,
          -0.04161103693813972,
          0.015183522577237873,
          -0.018507723695715517,
          -0.015367195082497564
         ],
         "xaxis": "x",
         "y": [
          7.719999999999999,
          16.619999999999997,
          10.07,
          3.200000000000003,
          0.4500000000000028,
          6.340000000000003,
          7.009999999999998,
          0.1899999999999977,
          0.6799999999999997,
          10.689999999999998,
          12.439999999999998,
          9.770000000000003,
          6.700000000000003,
          8.689999999999998,
          0.6599999999999966,
          1.4799999999999969,
          3.5900000000000034,
          6.549999999999997,
          4.289999999999999,
          1.4299999999999995,
          8.030000000000001,
          2.8999999999999986,
          16.35,
          9.07,
          6.969999999999999,
          4.270000000000003
         ],
         "yaxis": "y"
        },
        {
         "customdata": [
          [
           "Mayo"
          ]
         ],
         "hovertemplate": "Party=Centre Alliance<br>Yes_lead_pts_so_far=%{x}<br>Coalition point lead=%{y}<br>Seat=%{customdata[0]}<extra></extra>",
         "legendgroup": "Centre Alliance",
         "marker": {
          "color": "#00cc96",
          "symbol": "circle"
         },
         "mode": "markers",
         "name": "Centre Alliance",
         "orientation": "v",
         "showlegend": true,
         "type": "scatter",
         "x": [
          0.08978043248506729
         ],
         "xaxis": "x",
         "y": [
          -1.5900000000000034
         ],
         "yaxis": "y"
        },
        {
         "customdata": [
          [
           "Melbourne"
          ],
          [
           "Ryan"
          ],
          [
           "Griffith"
          ],
          [
           "Brisbane"
          ]
         ],
         "hovertemplate": "Party=Australian Greens<br>Yes_lead_pts_so_far=%{x}<br>Coalition point lead=%{y}<br>Seat=%{customdata[0]}<extra></extra>",
         "legendgroup": "Australian Greens",
         "marker": {
          "color": "#ab63fa",
          "symbol": "circle"
         },
         "mode": "markers",
         "name": "Australian Greens",
         "orientation": "v",
         "showlegend": true,
         "type": "scatter",
         "x": [
          0.019802167100841928,
          -0.07103180113873075,
          -0.07172418396635738,
          -0.07043410246382481
         ],
         "xaxis": "x",
         "y": [
          -27.91,
          -2.4200000000000017,
          -11.07,
          -4.399999999999999
         ],
         "yaxis": "y"
        },
        {
         "customdata": [
          [
           "Gippsland"
          ],
          [
           "Riverina"
          ],
          [
           "Lyne"
          ],
          [
           "Cowper"
          ],
          [
           "Nicholls"
          ],
          [
           "Page"
          ],
          [
           "Mallee"
          ],
          [
           "Parkes"
          ],
          [
           "New England"
          ]
         ],
         "hovertemplate": "Party=The Nationals<br>Yes_lead_pts_so_far=%{x}<br>Coalition point lead=%{y}<br>Seat=%{customdata[0]}<extra></extra>",
         "legendgroup": "The Nationals",
         "marker": {
          "color": "#FFA15A",
          "symbol": "circle"
         },
         "mode": "markers",
         "name": "The Nationals",
         "orientation": "v",
         "showlegend": true,
         "type": "scatter",
         "x": [
          0.019321797159928655,
          -0.0387218534426656,
          -0.04211455158029842,
          -0.04177005789909016,
          0.01792598303777948,
          -0.04238329238329236,
          0.01647528706939594,
          -0.056202255365587483,
          -0.049474605954465845
         ],
         "xaxis": "x",
         "y": [
          20.57,
          14.85,
          13.799999999999995,
          9.47,
          17.15,
          10.740000000000002,
          18.99,
          17.840000000000003,
          16.43
         ],
         "yaxis": "y"
        },
        {
         "customdata": [
          [
           "Clark"
          ],
          [
           "Curtin"
          ],
          [
           "Kooyong"
          ],
          [
           "Goldstein"
          ],
          [
           "Mackellar"
          ],
          [
           "Warringah"
          ],
          [
           "Fowler"
          ],
          [
           "North Sydney"
          ],
          [
           "Wentworth"
          ],
          [
           "Indi"
          ],
          [
           "Calare"
          ]
         ],
         "hovertemplate": "Party=Independent<br>Yes_lead_pts_so_far=%{x}<br>Coalition point lead=%{y}<br>Seat=%{customdata[0]}<extra></extra>",
         "legendgroup": "Independent",
         "marker": {
          "color": "#19d3f3",
          "symbol": "circle"
         },
         "mode": "markers",
         "name": "Independent",
         "orientation": "v",
         "showlegend": true,
         "type": "scatter",
         "x": [
          -0.10079722447774414,
          -0.010039969547011807,
          0.019415002038320472,
          0.01966307803871259,
          -0.04062229904926534,
          -0.04164170161773517,
          -0.041679506933744226,
          -0.041068797021639625,
          -0.04174345742720237,
          0.021170508419159684,
          -0.04407294832826747
         ],
         "xaxis": "x",
         "y": [
          -17.239999999999995,
          5.600000000000001,
          4.18,
          4.799999999999997,
          8.600000000000001,
          1.4299999999999995,
          -5.719999999999999,
          1.259999999999998,
          5.920000000000002,
          5.259999999999998,
          15.450000000000005
         ],
         "yaxis": "y"
        },
        {
         "customdata": [
          [
           "Fisher"
          ],
          [
           "Petrie"
          ],
          [
           "Dickson"
          ],
          [
           "Fairfax"
          ],
          [
           "McPherson"
          ],
          [
           "Forde"
          ],
          [
           "Longman"
          ],
          [
           "Fadden"
          ],
          [
           "Capricornia"
          ],
          [
           "Bonner"
          ],
          [
           "Hinkler"
          ],
          [
           "Moncrieff"
          ],
          [
           "Groom"
          ],
          [
           "Bowman"
          ],
          [
           "Leichhardt"
          ],
          [
           "Flynn"
          ],
          [
           "Maranoa"
          ],
          [
           "Wide Bay"
          ],
          [
           "Wright"
          ]
         ],
         "hovertemplate": "Party=Liberal National Party of Queensland<br>Yes_lead_pts_so_far=%{x}<br>Coalition point lead=%{y}<br>Seat=%{customdata[0]}<extra></extra>",
         "legendgroup": "Liberal National Party of Queensland",
         "marker": {
          "color": "#FF6692",
          "symbol": "circle"
         },
         "mode": "markers",
         "name": "Liberal National Party of Queensland",
         "orientation": "v",
         "showlegend": true,
         "type": "scatter",
         "x": [
          -0.07088803792851933,
          -0.06910569105691056,
          -0.07154175249564254,
          -0.07078488372093023,
          -0.07070198971607422,
          -0.07042750828399152,
          -0.06925606247431154,
          -0.07065918653576436,
          -0.07013322173397502,
          -0.07085163667280714,
          -0.0720264173151115,
          -0.07141880341880341,
          -0.06983387536257363,
          -0.07070971799979031,
          -0.07164334451254772,
          -0.06853266801808827,
          -0.07611873172925565,
          -0.07174295774647887,
          -0.07193968821875801
         ],
         "xaxis": "x",
         "y": [
          8.670000000000002,
          4.439999999999998,
          1.7000000000000028,
          8.950000000000003,
          9.340000000000003,
          4.229999999999997,
          3.0799999999999983,
          10.630000000000004,
          6.590000000000003,
          3.4099999999999966,
          10.07,
          11.189999999999998,
          14.170000000000002,
          5.509999999999998,
          3.4399999999999977,
          3.82,
          22.12,
          11.340000000000003,
          10.89
         ],
         "yaxis": "y"
        },
        {
         "customdata": [
          [
           "Kennedy"
          ]
         ],
         "hovertemplate": "Party=Katter's Australian Party<br>Yes_lead_pts_so_far=%{x}<br>Coalition point lead=%{y}<br>Seat=%{customdata[0]}<extra></extra>",
         "legendgroup": "Katter's Australian Party",
         "marker": {
          "color": "#B6E880",
          "symbol": "circle"
         },
         "mode": "markers",
         "name": "Katter's Australian Party",
         "orientation": "v",
         "showlegend": true,
         "type": "scatter",
         "x": [
          -0.0692162417374882
         ],
         "xaxis": "x",
         "y": [
          10.159999999999997
         ],
         "yaxis": "y"
        }
       ],
       "layout": {
        "legend": {
         "title": {
          "text": "Party"
         },
         "tracegroupgap": 0
        },
        "margin": {
         "t": 60
        },
        "template": {
         "data": {
          "bar": [
           {
            "error_x": {
             "color": "#2a3f5f"
            },
            "error_y": {
             "color": "#2a3f5f"
            },
            "marker": {
             "line": {
              "color": "#E5ECF6",
              "width": 0.5
             },
             "pattern": {
              "fillmode": "overlay",
              "size": 10,
              "solidity": 0.2
             }
            },
            "type": "bar"
           }
          ],
          "barpolar": [
           {
            "marker": {
             "line": {
              "color": "#E5ECF6",
              "width": 0.5
             },
             "pattern": {
              "fillmode": "overlay",
              "size": 10,
              "solidity": 0.2
             }
            },
            "type": "barpolar"
           }
          ],
          "carpet": [
           {
            "aaxis": {
             "endlinecolor": "#2a3f5f",
             "gridcolor": "white",
             "linecolor": "white",
             "minorgridcolor": "white",
             "startlinecolor": "#2a3f5f"
            },
            "baxis": {
             "endlinecolor": "#2a3f5f",
             "gridcolor": "white",
             "linecolor": "white",
             "minorgridcolor": "white",
             "startlinecolor": "#2a3f5f"
            },
            "type": "carpet"
           }
          ],
          "choropleth": [
           {
            "colorbar": {
             "outlinewidth": 0,
             "ticks": ""
            },
            "type": "choropleth"
           }
          ],
          "contour": [
           {
            "colorbar": {
             "outlinewidth": 0,
             "ticks": ""
            },
            "colorscale": [
             [
              0,
              "#0d0887"
             ],
             [
              0.1111111111111111,
              "#46039f"
             ],
             [
              0.2222222222222222,
              "#7201a8"
             ],
             [
              0.3333333333333333,
              "#9c179e"
             ],
             [
              0.4444444444444444,
              "#bd3786"
             ],
             [
              0.5555555555555556,
              "#d8576b"
             ],
             [
              0.6666666666666666,
              "#ed7953"
             ],
             [
              0.7777777777777778,
              "#fb9f3a"
             ],
             [
              0.8888888888888888,
              "#fdca26"
             ],
             [
              1,
              "#f0f921"
             ]
            ],
            "type": "contour"
           }
          ],
          "contourcarpet": [
           {
            "colorbar": {
             "outlinewidth": 0,
             "ticks": ""
            },
            "type": "contourcarpet"
           }
          ],
          "heatmap": [
           {
            "colorbar": {
             "outlinewidth": 0,
             "ticks": ""
            },
            "colorscale": [
             [
              0,
              "#0d0887"
             ],
             [
              0.1111111111111111,
              "#46039f"
             ],
             [
              0.2222222222222222,
              "#7201a8"
             ],
             [
              0.3333333333333333,
              "#9c179e"
             ],
             [
              0.4444444444444444,
              "#bd3786"
             ],
             [
              0.5555555555555556,
              "#d8576b"
             ],
             [
              0.6666666666666666,
              "#ed7953"
             ],
             [
              0.7777777777777778,
              "#fb9f3a"
             ],
             [
              0.8888888888888888,
              "#fdca26"
             ],
             [
              1,
              "#f0f921"
             ]
            ],
            "type": "heatmap"
           }
          ],
          "heatmapgl": [
           {
            "colorbar": {
             "outlinewidth": 0,
             "ticks": ""
            },
            "colorscale": [
             [
              0,
              "#0d0887"
             ],
             [
              0.1111111111111111,
              "#46039f"
             ],
             [
              0.2222222222222222,
              "#7201a8"
             ],
             [
              0.3333333333333333,
              "#9c179e"
             ],
             [
              0.4444444444444444,
              "#bd3786"
             ],
             [
              0.5555555555555556,
              "#d8576b"
             ],
             [
              0.6666666666666666,
              "#ed7953"
             ],
             [
              0.7777777777777778,
              "#fb9f3a"
             ],
             [
              0.8888888888888888,
              "#fdca26"
             ],
             [
              1,
              "#f0f921"
             ]
            ],
            "type": "heatmapgl"
           }
          ],
          "histogram": [
           {
            "marker": {
             "pattern": {
              "fillmode": "overlay",
              "size": 10,
              "solidity": 0.2
             }
            },
            "type": "histogram"
           }
          ],
          "histogram2d": [
           {
            "colorbar": {
             "outlinewidth": 0,
             "ticks": ""
            },
            "colorscale": [
             [
              0,
              "#0d0887"
             ],
             [
              0.1111111111111111,
              "#46039f"
             ],
             [
              0.2222222222222222,
              "#7201a8"
             ],
             [
              0.3333333333333333,
              "#9c179e"
             ],
             [
              0.4444444444444444,
              "#bd3786"
             ],
             [
              0.5555555555555556,
              "#d8576b"
             ],
             [
              0.6666666666666666,
              "#ed7953"
             ],
             [
              0.7777777777777778,
              "#fb9f3a"
             ],
             [
              0.8888888888888888,
              "#fdca26"
             ],
             [
              1,
              "#f0f921"
             ]
            ],
            "type": "histogram2d"
           }
          ],
          "histogram2dcontour": [
           {
            "colorbar": {
             "outlinewidth": 0,
             "ticks": ""
            },
            "colorscale": [
             [
              0,
              "#0d0887"
             ],
             [
              0.1111111111111111,
              "#46039f"
             ],
             [
              0.2222222222222222,
              "#7201a8"
             ],
             [
              0.3333333333333333,
              "#9c179e"
             ],
             [
              0.4444444444444444,
              "#bd3786"
             ],
             [
              0.5555555555555556,
              "#d8576b"
             ],
             [
              0.6666666666666666,
              "#ed7953"
             ],
             [
              0.7777777777777778,
              "#fb9f3a"
             ],
             [
              0.8888888888888888,
              "#fdca26"
             ],
             [
              1,
              "#f0f921"
             ]
            ],
            "type": "histogram2dcontour"
           }
          ],
          "mesh3d": [
           {
            "colorbar": {
             "outlinewidth": 0,
             "ticks": ""
            },
            "type": "mesh3d"
           }
          ],
          "parcoords": [
           {
            "line": {
             "colorbar": {
              "outlinewidth": 0,
              "ticks": ""
             }
            },
            "type": "parcoords"
           }
          ],
          "pie": [
           {
            "automargin": true,
            "type": "pie"
           }
          ],
          "scatter": [
           {
            "fillpattern": {
             "fillmode": "overlay",
             "size": 10,
             "solidity": 0.2
            },
            "type": "scatter"
           }
          ],
          "scatter3d": [
           {
            "line": {
             "colorbar": {
              "outlinewidth": 0,
              "ticks": ""
             }
            },
            "marker": {
             "colorbar": {
              "outlinewidth": 0,
              "ticks": ""
             }
            },
            "type": "scatter3d"
           }
          ],
          "scattercarpet": [
           {
            "marker": {
             "colorbar": {
              "outlinewidth": 0,
              "ticks": ""
             }
            },
            "type": "scattercarpet"
           }
          ],
          "scattergeo": [
           {
            "marker": {
             "colorbar": {
              "outlinewidth": 0,
              "ticks": ""
             }
            },
            "type": "scattergeo"
           }
          ],
          "scattergl": [
           {
            "marker": {
             "colorbar": {
              "outlinewidth": 0,
              "ticks": ""
             }
            },
            "type": "scattergl"
           }
          ],
          "scattermapbox": [
           {
            "marker": {
             "colorbar": {
              "outlinewidth": 0,
              "ticks": ""
             }
            },
            "type": "scattermapbox"
           }
          ],
          "scatterpolar": [
           {
            "marker": {
             "colorbar": {
              "outlinewidth": 0,
              "ticks": ""
             }
            },
            "type": "scatterpolar"
           }
          ],
          "scatterpolargl": [
           {
            "marker": {
             "colorbar": {
              "outlinewidth": 0,
              "ticks": ""
             }
            },
            "type": "scatterpolargl"
           }
          ],
          "scatterternary": [
           {
            "marker": {
             "colorbar": {
              "outlinewidth": 0,
              "ticks": ""
             }
            },
            "type": "scatterternary"
           }
          ],
          "surface": [
           {
            "colorbar": {
             "outlinewidth": 0,
             "ticks": ""
            },
            "colorscale": [
             [
              0,
              "#0d0887"
             ],
             [
              0.1111111111111111,
              "#46039f"
             ],
             [
              0.2222222222222222,
              "#7201a8"
             ],
             [
              0.3333333333333333,
              "#9c179e"
             ],
             [
              0.4444444444444444,
              "#bd3786"
             ],
             [
              0.5555555555555556,
              "#d8576b"
             ],
             [
              0.6666666666666666,
              "#ed7953"
             ],
             [
              0.7777777777777778,
              "#fb9f3a"
             ],
             [
              0.8888888888888888,
              "#fdca26"
             ],
             [
              1,
              "#f0f921"
             ]
            ],
            "type": "surface"
           }
          ],
          "table": [
           {
            "cells": {
             "fill": {
              "color": "#EBF0F8"
             },
             "line": {
              "color": "white"
             }
            },
            "header": {
             "fill": {
              "color": "#C8D4E3"
             },
             "line": {
              "color": "white"
             }
            },
            "type": "table"
           }
          ]
         },
         "layout": {
          "annotationdefaults": {
           "arrowcolor": "#2a3f5f",
           "arrowhead": 0,
           "arrowwidth": 1
          },
          "autotypenumbers": "strict",
          "coloraxis": {
           "colorbar": {
            "outlinewidth": 0,
            "ticks": ""
           }
          },
          "colorscale": {
           "diverging": [
            [
             0,
             "#8e0152"
            ],
            [
             0.1,
             "#c51b7d"
            ],
            [
             0.2,
             "#de77ae"
            ],
            [
             0.3,
             "#f1b6da"
            ],
            [
             0.4,
             "#fde0ef"
            ],
            [
             0.5,
             "#f7f7f7"
            ],
            [
             0.6,
             "#e6f5d0"
            ],
            [
             0.7,
             "#b8e186"
            ],
            [
             0.8,
             "#7fbc41"
            ],
            [
             0.9,
             "#4d9221"
            ],
            [
             1,
             "#276419"
            ]
           ],
           "sequential": [
            [
             0,
             "#0d0887"
            ],
            [
             0.1111111111111111,
             "#46039f"
            ],
            [
             0.2222222222222222,
             "#7201a8"
            ],
            [
             0.3333333333333333,
             "#9c179e"
            ],
            [
             0.4444444444444444,
             "#bd3786"
            ],
            [
             0.5555555555555556,
             "#d8576b"
            ],
            [
             0.6666666666666666,
             "#ed7953"
            ],
            [
             0.7777777777777778,
             "#fb9f3a"
            ],
            [
             0.8888888888888888,
             "#fdca26"
            ],
            [
             1,
             "#f0f921"
            ]
           ],
           "sequentialminus": [
            [
             0,
             "#0d0887"
            ],
            [
             0.1111111111111111,
             "#46039f"
            ],
            [
             0.2222222222222222,
             "#7201a8"
            ],
            [
             0.3333333333333333,
             "#9c179e"
            ],
            [
             0.4444444444444444,
             "#bd3786"
            ],
            [
             0.5555555555555556,
             "#d8576b"
            ],
            [
             0.6666666666666666,
             "#ed7953"
            ],
            [
             0.7777777777777778,
             "#fb9f3a"
            ],
            [
             0.8888888888888888,
             "#fdca26"
            ],
            [
             1,
             "#f0f921"
            ]
           ]
          },
          "colorway": [
           "#636efa",
           "#EF553B",
           "#00cc96",
           "#ab63fa",
           "#FFA15A",
           "#19d3f3",
           "#FF6692",
           "#B6E880",
           "#FF97FF",
           "#FECB52"
          ],
          "font": {
           "color": "#2a3f5f"
          },
          "geo": {
           "bgcolor": "white",
           "lakecolor": "white",
           "landcolor": "#E5ECF6",
           "showlakes": true,
           "showland": true,
           "subunitcolor": "white"
          },
          "hoverlabel": {
           "align": "left"
          },
          "hovermode": "closest",
          "mapbox": {
           "style": "light"
          },
          "paper_bgcolor": "white",
          "plot_bgcolor": "#E5ECF6",
          "polar": {
           "angularaxis": {
            "gridcolor": "white",
            "linecolor": "white",
            "ticks": ""
           },
           "bgcolor": "#E5ECF6",
           "radialaxis": {
            "gridcolor": "white",
            "linecolor": "white",
            "ticks": ""
           }
          },
          "scene": {
           "xaxis": {
            "backgroundcolor": "#E5ECF6",
            "gridcolor": "white",
            "gridwidth": 2,
            "linecolor": "white",
            "showbackground": true,
            "ticks": "",
            "zerolinecolor": "white"
           },
           "yaxis": {
            "backgroundcolor": "#E5ECF6",
            "gridcolor": "white",
            "gridwidth": 2,
            "linecolor": "white",
            "showbackground": true,
            "ticks": "",
            "zerolinecolor": "white"
           },
           "zaxis": {
            "backgroundcolor": "#E5ECF6",
            "gridcolor": "white",
            "gridwidth": 2,
            "linecolor": "white",
            "showbackground": true,
            "ticks": "",
            "zerolinecolor": "white"
           }
          },
          "shapedefaults": {
           "line": {
            "color": "#2a3f5f"
           }
          },
          "ternary": {
           "aaxis": {
            "gridcolor": "white",
            "linecolor": "white",
            "ticks": ""
           },
           "baxis": {
            "gridcolor": "white",
            "linecolor": "white",
            "ticks": ""
           },
           "bgcolor": "#E5ECF6",
           "caxis": {
            "gridcolor": "white",
            "linecolor": "white",
            "ticks": ""
           }
          },
          "title": {
           "x": 0.05
          },
          "xaxis": {
           "automargin": true,
           "gridcolor": "white",
           "linecolor": "white",
           "ticks": "",
           "title": {
            "standoff": 15
           },
           "zerolinecolor": "white",
           "zerolinewidth": 2
          },
          "yaxis": {
           "automargin": true,
           "gridcolor": "white",
           "linecolor": "white",
           "ticks": "",
           "title": {
            "standoff": 15
           },
           "zerolinecolor": "white",
           "zerolinewidth": 2
          }
         }
        },
        "title": {
         "text": "Yes vs. 2022 Coalition 2PP"
        },
        "xaxis": {
         "anchor": "y",
         "domain": [
          0,
          1
         ],
         "title": {
          "text": "Yes_lead_pts_so_far"
         },
         "zeroline": true
        },
        "yaxis": {
         "anchor": "x",
         "domain": [
          0,
          1
         ],
         "title": {
          "text": "Coalition point lead"
         },
         "zeroline": true
        }
       }
      }
     },
     "metadata": {},
     "output_type": "display_data"
    }
   ],
   "source": [
    "# vs. 2022 2PP\n",
    "\n",
    "# Create a scatter plot using Plotly Express\n",
    "fig = px.scatter(filtered_master, x='Yes_lead_pts_so_far', y='Coalition point lead', color='Party', hover_data=['Seat'])\n",
    "\n",
    "# Add axis lines at 0,0\n",
    "fig.update_layout(xaxis=dict(zeroline=True), yaxis=dict(zeroline=True))\n",
    "\n",
    "# Add a title\n",
    "fig.update_layout(title='Yes vs. 2022 Coalition 2PP')\n",
    "\n",
    "# Show the plot\n",
    "fig.show()"
   ]
  }
 ],
 "metadata": {
  "kernelspec": {
   "display_name": "Python 3",
   "language": "python",
   "name": "python3"
  },
  "language_info": {
   "codemirror_mode": {
    "name": "ipython",
    "version": 3
   },
   "file_extension": ".py",
   "mimetype": "text/x-python",
   "name": "python",
   "nbconvert_exporter": "python",
   "pygments_lexer": "ipython3",
   "version": "3.9.12"
  }
 },
 "nbformat": 4,
 "nbformat_minor": 2
}
