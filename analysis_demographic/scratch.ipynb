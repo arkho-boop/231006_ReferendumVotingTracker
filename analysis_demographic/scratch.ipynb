{
 "cells": [
  {
   "cell_type": "code",
   "execution_count": 8,
   "metadata": {},
   "outputs": [],
   "source": [
    "import xml.etree.ElementTree as ET\n",
    "from pathlib import Path\n",
    "import datetime as dt\n",
    "import xmltodict\n",
    "import pandas as pd\n",
    "import os\n",
    "import zipfile\n",
    "import shutil\n",
    "\n",
    "def read_eml(path: Path):\n",
    "\n",
    "    \"\"\"Convert EML file to dictionary\"\"\"\n",
    "\n",
    "    try:\n",
    "        return xmltodict.parse(path.read_text(encoding=\"utf-8\"))\n",
    "\n",
    "    except UnicodeDecodeError as e:\n",
    "        print(path.name)\n",
    "        print(e)\n",
    "        return None\n",
    "    \n",
    "# Get the user's home directory\n",
    "current_directory = os.getcwd()"
   ]
  },
  {
   "cell_type": "code",
   "execution_count": 9,
   "metadata": {},
   "outputs": [
    {
     "name": "stdout",
     "output_type": "stream",
     "text": [
      "Unzipped to: aec-mediafeed-Detailed-Verbose-29581-20231012180242\n",
      "Now filtering to spreadsheet ...\n",
      "File opened...\n",
      "            Seat SeatID State  Enrolment     Yes      No  Informal  Complete  \\\n",
      "22          Hume    125   NSW   126270.0  3264.0  3753.0      89.0     False   \n",
      "15   Eden-Monaro    117   NSW   117428.0  1659.0  1948.0      26.0     False   \n",
      "2         Fenner    102   ACT   103863.0  1403.0  1121.0      29.0     False   \n",
      "0           Bean    318   ACT   111176.0  1479.0  1181.0      36.0     False   \n",
      "51       Solomon    307    NT    72938.0   285.0   274.0      14.0     False   \n",
      "..           ...    ...   ...        ...     ...     ...       ...       ...   \n",
      "88         Makin    187    SA   123221.0     0.0     0.0       0.0     False   \n",
      "87      Kingston    186    SA   125968.0     0.0     0.0       0.0     False   \n",
      "86     Hindmarsh    185    SA   129725.0     0.0     0.0       0.0     False   \n",
      "85          Grey    183    SA   126501.0     0.0     0.0       0.0     False   \n",
      "150      Tangney    248    WA   123375.0     0.0     0.0       0.0     False   \n",
      "\n",
      "     Votes_returned  Votes_returned_pc  Informal_pc_tot Yes_pc_tot No_pc_tot  \\\n",
      "22           7106.0               5.63         0.000705    0.45933  0.528145   \n",
      "15           3633.0               3.09         0.000221   0.456647  0.536196   \n",
      "2            2553.0               2.46         0.000279    0.54955  0.439091   \n",
      "0            2696.0               2.42         0.000324   0.548591  0.438056   \n",
      "51            573.0               0.79         0.000192   0.497382  0.478185   \n",
      "..              ...                ...              ...        ...       ...   \n",
      "88              0.0               0.00         0.000000       NULL      NULL   \n",
      "87              0.0               0.00         0.000000       NULL      NULL   \n",
      "86              0.0               0.00         0.000000       NULL      NULL   \n",
      "85              0.0               0.00         0.000000       NULL      NULL   \n",
      "150             0.0               0.00         0.000000       NULL      NULL   \n",
      "\n",
      "    Informal_pc_so_far  \n",
      "22            0.012525  \n",
      "15            0.007157  \n",
      "2             0.011359  \n",
      "0             0.013353  \n",
      "51            0.024433  \n",
      "..                 ...  \n",
      "88                NULL  \n",
      "87                NULL  \n",
      "86                NULL  \n",
      "85                NULL  \n",
      "150               NULL  \n",
      "\n",
      "[151 rows x 14 columns]\n"
     ]
    }
   ],
   "source": [
    "# HAVE YOU MOVED THE ZIP FILE INTO THE WORKING DIRECTORY??\n",
    "\n",
    "zip_filename = 'aec-mediafeed-Detailed-Verbose-29581-20231012180242.zip'\n",
    "\n",
    "# Let's proceed. \n",
    "\n",
    "# Construct the full path to your file\n",
    "zip_file_path = os.path.join(current_directory, zip_filename)\n",
    "\n",
    "# unzipped directory\n",
    "unzip_directory_name = zip_filename[:-4]\n",
    "\n",
    "# Create a ZipFile object and extract the contents\n",
    "with zipfile.ZipFile(zip_file_path, 'r') as zip_ref:\n",
    "    zip_ref.extractall(unzip_directory_name)\n",
    "\n",
    "print('Unzipped to: ' + unzip_directory_name)\n",
    "print('Now filtering to spreadsheet ...')\n",
    "\n",
    "os.chdir(unzip_directory_name + '//xml')\n",
    "file_name = os.listdir()[0]\n",
    "\n",
    "f = open(file_name, encoding='utf-8')\n",
    "text = f.read()\n",
    "f.close()\n",
    "temp = xmltodict.parse(text)\n",
    "\n",
    "print('File opened...')\n",
    "\n",
    "df = pd.DataFrame()\n",
    "\n",
    "for PollingDistrict in temp['MediaFeed']['Results']['Election']['Referendum']['Contests']['Contest']['PollingDistricts']['PollingDistrict']:\n",
    "    temp_dict = {\n",
    "        'Seat': PollingDistrict['PollingDistrictIdentifier']['Name'],\n",
    "        'SeatID': PollingDistrict['PollingDistrictIdentifier']['@Id'],\n",
    "        'State': PollingDistrict['PollingDistrictIdentifier']['StateIdentifier']['@Id'],\n",
    "        'Enrolment': float(PollingDistrict['Enrolment']['#text']),\n",
    "        'Yes': float(PollingDistrict['ProposalResults']['Option'][0]['Votes']['#text']),\n",
    "        'No': float(PollingDistrict['ProposalResults']['Option'][1]['Votes']['#text']),\n",
    "        'Informal': float(PollingDistrict['ProposalResults']['Informal']['Votes']['#text']),\n",
    "        'Complete': PollingDistrict['ProposalResults']['@PollingPlacesExpected'] == PollingDistrict['ProposalResults']['@PollingPlacesReturned'],\n",
    "        'Votes_returned': float(PollingDistrict['ProposalResults']['Total']['Votes']['#text']),\n",
    "        'Votes_returned_pc': float(PollingDistrict['ProposalResults']['Total']['Votes']['@Percentage'])\n",
    "    }\n",
    "    temp_dict['Informal_pc_tot'] = temp_dict['Informal'] / temp_dict['Enrolment']\n",
    "    temp_dict['Yes_pc_tot'] = temp_dict['Yes'] / temp_dict['Enrolment']\n",
    "    temp_dict['No_pc_tot'] = temp_dict['No'] / temp_dict['Enrolment']\n",
    "    if temp_dict['Votes_returned'] == 0:\n",
    "        temp_dict['Informal_pc_so_far'] = 'NULL'\n",
    "        temp_dict['Yes_pc_tot'] = 'NULL'\n",
    "        temp_dict['No_pc_tot'] = 'NULL'\n",
    "    else:\n",
    "        temp_dict['Informal_pc_so_far'] = temp_dict['Informal'] / temp_dict['Votes_returned']\n",
    "        temp_dict['Yes_pc_tot'] = temp_dict['Yes'] / temp_dict['Votes_returned']\n",
    "        temp_dict['No_pc_tot'] = temp_dict['No'] / temp_dict['Votes_returned']\n",
    "    df = pd.concat(\n",
    "        [df, pd.DataFrame(temp_dict, index=[0])], ignore_index=True\n",
    "    )\n",
    "\n",
    "df = df.sort_values(by='Votes_returned_pc', ascending=False)\n",
    "print(df)\n",
    "\n",
    "# Get the current working directory\n",
    "current_directory = os.getcwd()\n",
    "\n",
    "# Get the parent directory\n",
    "parent_directory = os.path.dirname(current_directory)\n",
    "\n",
    "# Get the grandparent directory\n",
    "grandparent_directory = os.path.dirname(parent_directory)\n",
    "\n",
    "# Change the working directory to the grandparent directory\n",
    "os.chdir(grandparent_directory)"
   ]
  },
  {
   "cell_type": "code",
   "execution_count": null,
   "metadata": {},
   "outputs": [],
   "source": [
    "# vs. 2PP 2020 (by seat)"
   ]
  },
  {
   "cell_type": "code",
   "execution_count": null,
   "metadata": {},
   "outputs": [],
   "source": [
    "# vs. tertiary education rates\n",
    " "
   ]
  },
  {
   "cell_type": "code",
   "execution_count": 11,
   "metadata": {},
   "outputs": [
    {
     "name": "stdout",
     "output_type": "stream",
     "text": [
      "['125', '117', '102', '318', '307', '136', '208', '204', '197', '111', '157', '235', '328', '172', '242', '148', '216', '239', '160', '149', '245', '236', '222', '171', '317', '164', '193', '305', '240', '200', '201', '133', '311', '229', '166', '205', '302', '226', '101', '209', '168', '109', '217', '118', '124', '151', '120', '146', '139', '128', '132', '306', '218', '121', '167', '119', '122', '152', '135', '173', '127', '159', '115', '224', '322', '126', '223', '221', '220', '219', '130', '131', '215', '326', '309', '214', '213', '212', '321', '211', '210', '225', '228', '134', '114', '247', '103', '244', '243', '104', '105', '106', '107', '312', '238', '237', '108', '112', '113', '234', '233', '232', '324', '323', '315', '137', '161', '179', '178', '177', '176', '175', '174', '251', '153', '150', '170', '304', '169', '310', '155', '156', '165', '158', '163', '162', '252', '316', '180', '320', '182', '138', '140', '203', '249', '144', '198', '145', '196', '195', '319', '250', '192', '190', '325', '188', '187', '186', '185', '183', '248']\n"
     ]
    }
   ],
   "source": [
    "print(df['SeatID'].to_list())"
   ]
  }
 ],
 "metadata": {
  "kernelspec": {
   "display_name": "Python 3",
   "language": "python",
   "name": "python3"
  },
  "language_info": {
   "codemirror_mode": {
    "name": "ipython",
    "version": 3
   },
   "file_extension": ".py",
   "mimetype": "text/x-python",
   "name": "python",
   "nbconvert_exporter": "python",
   "pygments_lexer": "ipython3",
   "version": "3.9.12"
  }
 },
 "nbformat": 4,
 "nbformat_minor": 2
}
