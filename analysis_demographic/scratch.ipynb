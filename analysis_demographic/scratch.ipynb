{
 "cells": [
  {
   "cell_type": "code",
   "execution_count": 1,
   "metadata": {},
   "outputs": [
    {
     "ename": "ModuleNotFoundError",
     "evalue": "No module named 'xmltodict'",
     "output_type": "error",
     "traceback": [
      "\u001b[0;31m---------------------------------------------------------------------------\u001b[0m",
      "\u001b[0;31mModuleNotFoundError\u001b[0m                       Traceback (most recent call last)",
      "\u001b[1;32m/Volumes/NAS/DataProjects/231006_ReferendumVotingTracker/analysis_demographic/scratch.ipynb Cell 1\u001b[0m line \u001b[0;36m4\n\u001b[1;32m      <a href='vscode-notebook-cell:/Volumes/NAS/DataProjects/231006_ReferendumVotingTracker/analysis_demographic/scratch.ipynb#W0sZmlsZQ%3D%3D?line=1'>2</a>\u001b[0m \u001b[39mfrom\u001b[39;00m \u001b[39mpathlib\u001b[39;00m \u001b[39mimport\u001b[39;00m Path\n\u001b[1;32m      <a href='vscode-notebook-cell:/Volumes/NAS/DataProjects/231006_ReferendumVotingTracker/analysis_demographic/scratch.ipynb#W0sZmlsZQ%3D%3D?line=2'>3</a>\u001b[0m \u001b[39mimport\u001b[39;00m \u001b[39mdatetime\u001b[39;00m \u001b[39mas\u001b[39;00m \u001b[39mdt\u001b[39;00m\n\u001b[0;32m----> <a href='vscode-notebook-cell:/Volumes/NAS/DataProjects/231006_ReferendumVotingTracker/analysis_demographic/scratch.ipynb#W0sZmlsZQ%3D%3D?line=3'>4</a>\u001b[0m \u001b[39mimport\u001b[39;00m \u001b[39mxmltodict\u001b[39;00m\n\u001b[1;32m      <a href='vscode-notebook-cell:/Volumes/NAS/DataProjects/231006_ReferendumVotingTracker/analysis_demographic/scratch.ipynb#W0sZmlsZQ%3D%3D?line=4'>5</a>\u001b[0m \u001b[39mimport\u001b[39;00m \u001b[39mpandas\u001b[39;00m \u001b[39mas\u001b[39;00m \u001b[39mpd\u001b[39;00m\n\u001b[1;32m      <a href='vscode-notebook-cell:/Volumes/NAS/DataProjects/231006_ReferendumVotingTracker/analysis_demographic/scratch.ipynb#W0sZmlsZQ%3D%3D?line=5'>6</a>\u001b[0m \u001b[39mimport\u001b[39;00m \u001b[39mos\u001b[39;00m\n",
      "\u001b[0;31mModuleNotFoundError\u001b[0m: No module named 'xmltodict'"
     ]
    }
   ],
   "source": [
    "import xml.etree.ElementTree as ET\n",
    "from pathlib import Path\n",
    "import datetime as dt\n",
    "import xmltodict\n",
    "import pandas as pd\n",
    "import os\n",
    "import zipfile\n",
    "\n",
    "def read_eml(path: Path):\n",
    "\n",
    "    \"\"\"Convert EML file to dictionary\"\"\"\n",
    "\n",
    "    try:\n",
    "        return xmltodict.parse(path.read_text(encoding=\"utf-8\"))\n",
    "\n",
    "    except UnicodeDecodeError as e:\n",
    "        print(path.name)\n",
    "        print(e)\n",
    "        return None\n",
    "    \n",
    "# Get the user's home directory\n",
    "current_directory = os.getcwd()"
   ]
  },
  {
   "cell_type": "code",
   "execution_count": 1,
   "metadata": {},
   "outputs": [
    {
     "ename": "NameError",
     "evalue": "name 'os' is not defined",
     "output_type": "error",
     "traceback": [
      "\u001b[0;31m---------------------------------------------------------------------------\u001b[0m",
      "\u001b[0;31mNameError\u001b[0m                                 Traceback (most recent call last)",
      "\u001b[1;32m/Volumes/NAS/DataProjects/231006_ReferendumVotingTracker/analysis_demographic/scratch.ipynb Cell 2\u001b[0m line \u001b[0;36m8\n\u001b[1;32m      <a href='vscode-notebook-cell:/Volumes/NAS/DataProjects/231006_ReferendumVotingTracker/analysis_demographic/scratch.ipynb#W1sZmlsZQ%3D%3D?line=2'>3</a>\u001b[0m zip_filename \u001b[39m=\u001b[39m \u001b[39m'\u001b[39m\u001b[39m'\u001b[39m\n\u001b[1;32m      <a href='vscode-notebook-cell:/Volumes/NAS/DataProjects/231006_ReferendumVotingTracker/analysis_demographic/scratch.ipynb#W1sZmlsZQ%3D%3D?line=4'>5</a>\u001b[0m \u001b[39m# Let's proceed. \u001b[39;00m\n\u001b[1;32m      <a href='vscode-notebook-cell:/Volumes/NAS/DataProjects/231006_ReferendumVotingTracker/analysis_demographic/scratch.ipynb#W1sZmlsZQ%3D%3D?line=5'>6</a>\u001b[0m \n\u001b[1;32m      <a href='vscode-notebook-cell:/Volumes/NAS/DataProjects/231006_ReferendumVotingTracker/analysis_demographic/scratch.ipynb#W1sZmlsZQ%3D%3D?line=6'>7</a>\u001b[0m \u001b[39m# Construct the full path to your file\u001b[39;00m\n\u001b[0;32m----> <a href='vscode-notebook-cell:/Volumes/NAS/DataProjects/231006_ReferendumVotingTracker/analysis_demographic/scratch.ipynb#W1sZmlsZQ%3D%3D?line=7'>8</a>\u001b[0m zip_file_path \u001b[39m=\u001b[39m os\u001b[39m.\u001b[39mpath\u001b[39m.\u001b[39mjoin(current_directory, zip_filename)\n\u001b[1;32m     <a href='vscode-notebook-cell:/Volumes/NAS/DataProjects/231006_ReferendumVotingTracker/analysis_demographic/scratch.ipynb#W1sZmlsZQ%3D%3D?line=9'>10</a>\u001b[0m \u001b[39m# unzipped directory\u001b[39;00m\n\u001b[1;32m     <a href='vscode-notebook-cell:/Volumes/NAS/DataProjects/231006_ReferendumVotingTracker/analysis_demographic/scratch.ipynb#W1sZmlsZQ%3D%3D?line=10'>11</a>\u001b[0m unzip_directory_name \u001b[39m=\u001b[39m zip_filename[:\u001b[39m-\u001b[39m\u001b[39m4\u001b[39m]\n",
      "\u001b[0;31mNameError\u001b[0m: name 'os' is not defined"
     ]
    }
   ],
   "source": [
    "# HAVE YOU MOVED THE ZIP FILE INTO THE WORKING DIRECTORY??\n",
    "\n",
    "zip_filename = ''\n",
    "\n",
    "# Let's proceed. \n",
    "\n",
    "# Construct the full path to your file\n",
    "zip_file_path = os.path.join(current_directory, zip_filename)\n",
    "\n",
    "# unzipped directory\n",
    "unzip_directory_name = zip_filename[:-4]\n",
    "\n",
    "# Create a ZipFile object and extract the contents\n",
    "with zipfile.ZipFile(zip_file_path, 'r') as zip_ref:\n",
    "    zip_ref.extractall(unzip_directory_name)\n",
    "\n",
    "print('Unzipped to: ' + unzip_directory_name)\n",
    "print('Now filtering to spreadsheet ...')\n",
    "\n",
    "os.chdir(unzip_directory_name + '//xml')\n",
    "file_name = os.listdir()[-1]\n",
    "\n",
    "f = open(file_name, encoding='utf-8')\n",
    "text = f.read()\n",
    "f.close()\n",
    "temp = xmltodict.parse(text)\n",
    "\n",
    "print('File opened...')\n",
    "\n",
    "df = pd.DataFrame()\n",
    "\n",
    "for PollingDistrict in temp['MediaFeed']['Results']['Election']['Referendum']['Contests']['Contest']['PollingDistricts']['PollingDistrict']:\n",
    "    temp_dict = {\n",
    "        'Seat': PollingDistrict['PollingDistrictIdentifier']['Name'],\n",
    "        'SeatID': PollingDistrict['PollingDistrictIdentifier']['@Id'],\n",
    "        'State': PollingDistrict['PollingDistrictIdentifier']['StateIdentifier']['@Id'],\n",
    "        'Enrolment': float(PollingDistrict['Enrolment']['#text']),\n",
    "        'Yes': float(PollingDistrict['ProposalResults']['Option'][0]['Votes']['#text']),\n",
    "        'No': float(PollingDistrict['ProposalResults']['Option'][1]['Votes']['#text']),\n",
    "        'Informal': float(PollingDistrict['ProposalResults']['Informal']['Votes']['#text']),\n",
    "        'Complete': PollingDistrict['ProposalResults']['@PollingPlacesExpected'] == PollingDistrict['ProposalResults']['@PollingPlacesReturned'],\n",
    "        'Votes_returned': float(PollingDistrict['ProposalResults']['Total']['Votes']['@Percentage'])\n",
    "    }\n",
    "    temp_dict['Informal_pc'] = temp_dict['Informal'] / temp_dict['Enrolment']\n",
    "    temp_dict['Yes_pc'] = temp_dict['Yes'] / temp_dict['Enrolment']\n",
    "    temp_dict['No_pc'] = temp_dict['No'] / temp_dict['Enrolment']\n",
    "    df = pd.concat(\n",
    "        [df, pd.DataFrame(temp_dict, index=[0])], ignore_index=True\n",
    "    )\n",
    "\n",
    "print(df)"
   ]
  }
 ],
 "metadata": {
  "kernelspec": {
   "display_name": "Python 3",
   "language": "python",
   "name": "python3"
  },
  "language_info": {
   "codemirror_mode": {
    "name": "ipython",
    "version": 3
   },
   "file_extension": ".py",
   "mimetype": "text/x-python",
   "name": "python",
   "nbconvert_exporter": "python",
   "pygments_lexer": "ipython3",
   "version": "3.9.6"
  }
 },
 "nbformat": 4,
 "nbformat_minor": 2
}
