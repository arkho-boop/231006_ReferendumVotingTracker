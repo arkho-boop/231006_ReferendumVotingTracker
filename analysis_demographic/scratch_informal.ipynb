{
 "cells": [
  {
   "cell_type": "code",
   "execution_count": null,
   "metadata": {},
   "outputs": [],
   "source": [
    "import xml.etree.ElementTree as ET\n",
    "from pathlib import Path\n",
    "import datetime as dt\n",
    "import xmltodict\n",
    "import pandas as pd\n",
    "import os\n",
    "import zipfile\n",
    "import shutil\n",
    "import matplotlib.pyplot as plt\n",
    "import seaborn as sns\n",
    "import plotly.express as px\n",
    "import plotly.graph_objects as go \n",
    "from plotly.subplots import make_subplots\n",
    "from sklearn.model_selection import train_test_split\n",
    "from sklearn.linear_model import LinearRegression\n",
    "from sklearn.preprocessing import OneHotEncoder\n",
    "from sklearn.compose import ColumnTransformer\n",
    "from sklearn.pipeline import Pipeline\n",
    "from sklearn.metrics import mean_squared_error, r2_score\n",
    "from scipy.stats import linregress\n",
    "import numpy as np\n",
    "\n",
    "def read_eml(path: Path):\n",
    "\n",
    "    \"\"\"Convert EML file to dictionary\"\"\"\n",
    "\n",
    "    try:\n",
    "        return xmltodict.parse(path.read_text(encoding=\"utf-8\"))\n",
    "\n",
    "    except UnicodeDecodeError as e:\n",
    "        print(path.name)\n",
    "        print(e)\n",
    "        return None\n",
    "    \n",
    "# Get the user's home directory\n",
    "current_directory = os.getcwd()"
   ]
  }
 ],
 "metadata": {
  "kernelspec": {
   "display_name": "Python 3",
   "language": "python",
   "name": "python3"
  },
  "language_info": {
   "name": "python",
   "version": "3.9.6"
  }
 },
 "nbformat": 4,
 "nbformat_minor": 2
}
